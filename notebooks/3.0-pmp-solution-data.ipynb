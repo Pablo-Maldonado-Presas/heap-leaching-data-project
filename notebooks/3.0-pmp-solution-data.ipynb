{
 "cells": [
  {
   "cell_type": "markdown",
   "metadata": {},
   "source": [
    "## Comprensión del negocio"
   ]
  },
  {
   "cell_type": "markdown",
   "metadata": {},
   "source": [
    "## Comprensión de los datos"
   ]
  },
  {
   "cell_type": "code",
   "execution_count": 1,
   "metadata": {},
   "outputs": [],
   "source": [
    "import os\n",
    "import pandas as pd\n",
    "import numpy as np\n",
    "import matplotlib.pyplot as plt\n",
    "import seaborn as sns\n",
    "\n",
    "from sklearn.preprocessing import MinMaxScaler"
   ]
  },
  {
   "cell_type": "code",
   "execution_count": null,
   "metadata": {},
   "outputs": [],
   "source": [
    "file_path = \"../dataset/raw/percolaciones.csv\""
   ]
  },
  {
   "cell_type": "code",
   "execution_count": 3,
   "metadata": {},
   "outputs": [
    {
     "data": {
      "text/html": [
       "<div>\n",
       "<style scoped>\n",
       "    .dataframe tbody tr th:only-of-type {\n",
       "        vertical-align: middle;\n",
       "    }\n",
       "\n",
       "    .dataframe tbody tr th {\n",
       "        vertical-align: top;\n",
       "    }\n",
       "\n",
       "    .dataframe thead th {\n",
       "        text-align: right;\n",
       "    }\n",
       "</style>\n",
       "<table border=\"1\" class=\"dataframe\">\n",
       "  <thead>\n",
       "    <tr style=\"text-align: right;\">\n",
       "      <th></th>\n",
       "      <th>FECHA</th>\n",
       "      <th>HRA</th>\n",
       "      <th>Cu [gpl]</th>\n",
       "      <th>Ph</th>\n",
       "    </tr>\n",
       "  </thead>\n",
       "  <tbody>\n",
       "    <tr>\n",
       "      <th>0</th>\n",
       "      <td>27-10-2024</td>\n",
       "      <td>10:00</td>\n",
       "      <td>NaN</td>\n",
       "      <td>NaN</td>\n",
       "    </tr>\n",
       "    <tr>\n",
       "      <th>1</th>\n",
       "      <td>NaN</td>\n",
       "      <td>13:00</td>\n",
       "      <td>NaN</td>\n",
       "      <td>NaN</td>\n",
       "    </tr>\n",
       "    <tr>\n",
       "      <th>2</th>\n",
       "      <td>NaN</td>\n",
       "      <td>16:00</td>\n",
       "      <td>16,76</td>\n",
       "      <td>1,15</td>\n",
       "    </tr>\n",
       "    <tr>\n",
       "      <th>3</th>\n",
       "      <td>NaN</td>\n",
       "      <td>19:00</td>\n",
       "      <td>35,51</td>\n",
       "      <td>2,57</td>\n",
       "    </tr>\n",
       "    <tr>\n",
       "      <th>4</th>\n",
       "      <td>NaN</td>\n",
       "      <td>22:00</td>\n",
       "      <td>30,16</td>\n",
       "      <td>2,22</td>\n",
       "    </tr>\n",
       "    <tr>\n",
       "      <th>...</th>\n",
       "      <td>...</td>\n",
       "      <td>...</td>\n",
       "      <td>...</td>\n",
       "      <td>...</td>\n",
       "    </tr>\n",
       "    <tr>\n",
       "      <th>520</th>\n",
       "      <td>13-01-2024</td>\n",
       "      <td>10:00</td>\n",
       "      <td>0,19</td>\n",
       "      <td>1,56</td>\n",
       "    </tr>\n",
       "    <tr>\n",
       "      <th>521</th>\n",
       "      <td>NaN</td>\n",
       "      <td>13:00</td>\n",
       "      <td>NaN</td>\n",
       "      <td>NaN</td>\n",
       "    </tr>\n",
       "    <tr>\n",
       "      <th>522</th>\n",
       "      <td>NaN</td>\n",
       "      <td>16:00</td>\n",
       "      <td>NaN</td>\n",
       "      <td>NaN</td>\n",
       "    </tr>\n",
       "    <tr>\n",
       "      <th>523</th>\n",
       "      <td>NaN</td>\n",
       "      <td>19:00</td>\n",
       "      <td>NaN</td>\n",
       "      <td>NaN</td>\n",
       "    </tr>\n",
       "    <tr>\n",
       "      <th>524</th>\n",
       "      <td>NaN</td>\n",
       "      <td>22:00</td>\n",
       "      <td>NaN</td>\n",
       "      <td>NaN</td>\n",
       "    </tr>\n",
       "  </tbody>\n",
       "</table>\n",
       "<p>525 rows × 4 columns</p>\n",
       "</div>"
      ],
      "text/plain": [
       "          FECHA    HRA Cu [gpl]    Ph\n",
       "0    27-10-2024  10:00      NaN   NaN\n",
       "1           NaN  13:00      NaN   NaN\n",
       "2           NaN  16:00    16,76  1,15\n",
       "3           NaN  19:00    35,51  2,57\n",
       "4           NaN  22:00    30,16  2,22\n",
       "..          ...    ...      ...   ...\n",
       "520  13-01-2024  10:00     0,19  1,56\n",
       "521         NaN  13:00      NaN   NaN\n",
       "522         NaN  16:00      NaN   NaN\n",
       "523         NaN  19:00      NaN   NaN\n",
       "524         NaN  22:00      NaN   NaN\n",
       "\n",
       "[525 rows x 4 columns]"
      ]
     },
     "execution_count": 3,
     "metadata": {},
     "output_type": "execute_result"
    }
   ],
   "source": [
    "pd.read_csv(file_path, sep=\";\")"
   ]
  },
  {
   "cell_type": "markdown",
   "metadata": {},
   "source": [
    "Al visualizar los 5 primeros y últimos registros del conjunto de datos:\n",
    "* La primera fecha corresponde al 27 de octubre de 2024, lo que es erróneo, porque la fecha de inicio del proceso de medición debiera ser octubre del 2023.\n",
    "* Hay valores nulos en la columna FECHA, porque la tabla del archivo Excel original está estructurada de tal manera que la fecha sólo se indica en la primera fila de cada serie temporal. La serie temporal corresponde al conjunto diario de registros.\n",
    "* El separador decimal es una coma, por lo que habría que modificar su formato a punto, para su correcta manipulación."
   ]
  },
  {
   "cell_type": "code",
   "execution_count": 4,
   "metadata": {},
   "outputs": [],
   "source": [
    "df = pd.read_csv(file_path, sep=\";\")"
   ]
  },
  {
   "cell_type": "code",
   "execution_count": 5,
   "metadata": {},
   "outputs": [],
   "source": [
    "df.columns = [\"Date\", \"Time\", \"Cu\", \"pH\"]"
   ]
  },
  {
   "cell_type": "markdown",
   "metadata": {},
   "source": [
    "1) Llenar los valores nulos de la columna Date con la fecha correspondiente a cada serie de tiempo.\n",
    "2) Reemplazar coma por punto en los separadores decimales de las columnas Cu y pH."
   ]
  },
  {
   "cell_type": "code",
   "execution_count": 6,
   "metadata": {},
   "outputs": [],
   "source": [
    "df_2 = df.copy()"
   ]
  },
  {
   "cell_type": "code",
   "execution_count": 7,
   "metadata": {},
   "outputs": [],
   "source": [
    "# 1)\n",
    "df_2[\"Date\"] = df_2[\"Date\"].ffill()\n",
    "\n",
    "# 2)\n",
    "df_2[\"Cu\"] = df_2[\"Cu\"].str.replace(',', '.', regex=False)\n",
    "df_2[\"pH\"] = df_2[\"pH\"].str.replace(',', '.', regex=False)"
   ]
  },
  {
   "cell_type": "markdown",
   "metadata": {},
   "source": [
    "Imprimir última fecha de registro de diciembre, para cambiar el año de la fecha desde el primer registro hasta el último de diciembre"
   ]
  },
  {
   "cell_type": "code",
   "execution_count": 8,
   "metadata": {},
   "outputs": [
    {
     "data": {
      "text/plain": [
       "468    31-12-2024\n",
       "Name: Date, dtype: object"
      ]
     },
     "execution_count": 8,
     "metadata": {},
     "output_type": "execute_result"
    }
   ],
   "source": [
    "df_2[\"Date\"].where(df_2[\"Date\"].str.contains(\"12-2024\")).dropna().tail(1)"
   ]
  },
  {
   "cell_type": "markdown",
   "metadata": {},
   "source": [
    "Reemplazar el año 2024 por 2023 desde octubre a diciembre"
   ]
  },
  {
   "cell_type": "code",
   "execution_count": 9,
   "metadata": {},
   "outputs": [],
   "source": [
    "for i in range(10, 13):\n",
    "    df_2[\"Date\"] = (\n",
    "        df_2[\"Date\"]\n",
    "        .str\n",
    "        .replace(f\"{i}-2024\", \n",
    "                 f\"{i}-2023\", \n",
    "                 regex=False)\n",
    "    )"
   ]
  },
  {
   "cell_type": "code",
   "execution_count": 10,
   "metadata": {},
   "outputs": [
    {
     "data": {
      "text/html": [
       "<div>\n",
       "<style scoped>\n",
       "    .dataframe tbody tr th:only-of-type {\n",
       "        vertical-align: middle;\n",
       "    }\n",
       "\n",
       "    .dataframe tbody tr th {\n",
       "        vertical-align: top;\n",
       "    }\n",
       "\n",
       "    .dataframe thead th {\n",
       "        text-align: right;\n",
       "    }\n",
       "</style>\n",
       "<table border=\"1\" class=\"dataframe\">\n",
       "  <thead>\n",
       "    <tr style=\"text-align: right;\">\n",
       "      <th></th>\n",
       "      <th>Date</th>\n",
       "      <th>Time</th>\n",
       "      <th>Cu</th>\n",
       "      <th>pH</th>\n",
       "    </tr>\n",
       "  </thead>\n",
       "  <tbody>\n",
       "    <tr>\n",
       "      <th>0</th>\n",
       "      <td>27-10-2023</td>\n",
       "      <td>10:00</td>\n",
       "      <td>NaN</td>\n",
       "      <td>NaN</td>\n",
       "    </tr>\n",
       "    <tr>\n",
       "      <th>1</th>\n",
       "      <td>27-10-2023</td>\n",
       "      <td>13:00</td>\n",
       "      <td>NaN</td>\n",
       "      <td>NaN</td>\n",
       "    </tr>\n",
       "    <tr>\n",
       "      <th>2</th>\n",
       "      <td>27-10-2023</td>\n",
       "      <td>16:00</td>\n",
       "      <td>16.76</td>\n",
       "      <td>1.15</td>\n",
       "    </tr>\n",
       "    <tr>\n",
       "      <th>3</th>\n",
       "      <td>27-10-2023</td>\n",
       "      <td>19:00</td>\n",
       "      <td>35.51</td>\n",
       "      <td>2.57</td>\n",
       "    </tr>\n",
       "    <tr>\n",
       "      <th>4</th>\n",
       "      <td>27-10-2023</td>\n",
       "      <td>22:00</td>\n",
       "      <td>30.16</td>\n",
       "      <td>2.22</td>\n",
       "    </tr>\n",
       "  </tbody>\n",
       "</table>\n",
       "</div>"
      ],
      "text/plain": [
       "         Date   Time     Cu    pH\n",
       "0  27-10-2023  10:00    NaN   NaN\n",
       "1  27-10-2023  13:00    NaN   NaN\n",
       "2  27-10-2023  16:00  16.76  1.15\n",
       "3  27-10-2023  19:00  35.51  2.57\n",
       "4  27-10-2023  22:00  30.16  2.22"
      ]
     },
     "execution_count": 10,
     "metadata": {},
     "output_type": "execute_result"
    }
   ],
   "source": [
    "# Comprobación\n",
    "df_2.head()"
   ]
  },
  {
   "cell_type": "code",
   "execution_count": 11,
   "metadata": {},
   "outputs": [
    {
     "name": "stdout",
     "output_type": "stream",
     "text": [
      "<class 'pandas.core.frame.DataFrame'>\n",
      "RangeIndex: 525 entries, 0 to 524\n",
      "Data columns (total 4 columns):\n",
      " #   Column  Non-Null Count  Dtype \n",
      "---  ------  --------------  ----- \n",
      " 0   Date    525 non-null    object\n",
      " 1   Time    525 non-null    object\n",
      " 2   Cu      431 non-null    object\n",
      " 3   pH      422 non-null    object\n",
      "dtypes: object(4)\n",
      "memory usage: 16.5+ KB\n"
     ]
    }
   ],
   "source": [
    "df_2.info()"
   ]
  },
  {
   "cell_type": "markdown",
   "metadata": {},
   "source": [
    "Cambios necesarios:\n",
    "1) Cambiar tipo de dato en columnas Cu y pH a numérico.\n",
    "2) Concatenar las columnas Date y Time, en una nueva columna Timestamp.\n",
    "3) Cambiar tipo de dato en columna de tiempo.\n",
    "4) Definir Timestamp como índice y eliminar las columnas Date y Time."
   ]
  },
  {
   "cell_type": "code",
   "execution_count": 12,
   "metadata": {},
   "outputs": [],
   "source": [
    "# 1)\n",
    "df_2[\"Cu\"] = pd.to_numeric(df_2[\"Cu\"], errors=\"coerce\")\n",
    "df_2[\"pH\"] = pd.to_numeric(df_2[\"pH\"], errors=\"coerce\")\n",
    "\n",
    "# 2)\n",
    "df_2[\"Timestamp\"] = df_2[\"Date\"] + \" \" + df[\"Time\"]\n",
    "\n",
    "# 3)\n",
    "df_2[\"Timestamp\"] = pd.to_datetime(df_2[\"Timestamp\"], \n",
    "                                   format=\"%d-%m-%Y %H:%M\", \n",
    "                                   errors=\"coerce\")\n",
    "\n",
    "# 4)\n",
    "df_2 = df_2.set_index(\"Timestamp\").drop([\"Date\", \"Time\"], axis=1)"
   ]
  },
  {
   "cell_type": "markdown",
   "metadata": {},
   "source": [
    "### DataFrame consolidado"
   ]
  },
  {
   "cell_type": "code",
   "execution_count": 13,
   "metadata": {},
   "outputs": [
    {
     "data": {
      "text/html": [
       "<div>\n",
       "<style scoped>\n",
       "    .dataframe tbody tr th:only-of-type {\n",
       "        vertical-align: middle;\n",
       "    }\n",
       "\n",
       "    .dataframe tbody tr th {\n",
       "        vertical-align: top;\n",
       "    }\n",
       "\n",
       "    .dataframe thead th {\n",
       "        text-align: right;\n",
       "    }\n",
       "</style>\n",
       "<table border=\"1\" class=\"dataframe\">\n",
       "  <thead>\n",
       "    <tr style=\"text-align: right;\">\n",
       "      <th></th>\n",
       "      <th>Cu</th>\n",
       "      <th>pH</th>\n",
       "    </tr>\n",
       "    <tr>\n",
       "      <th>Timestamp</th>\n",
       "      <th></th>\n",
       "      <th></th>\n",
       "    </tr>\n",
       "  </thead>\n",
       "  <tbody>\n",
       "    <tr>\n",
       "      <th>2023-10-27 10:00:00</th>\n",
       "      <td>NaN</td>\n",
       "      <td>NaN</td>\n",
       "    </tr>\n",
       "    <tr>\n",
       "      <th>2023-10-27 13:00:00</th>\n",
       "      <td>NaN</td>\n",
       "      <td>NaN</td>\n",
       "    </tr>\n",
       "    <tr>\n",
       "      <th>2023-10-27 16:00:00</th>\n",
       "      <td>16.76</td>\n",
       "      <td>1.15</td>\n",
       "    </tr>\n",
       "    <tr>\n",
       "      <th>2023-10-27 19:00:00</th>\n",
       "      <td>35.51</td>\n",
       "      <td>2.57</td>\n",
       "    </tr>\n",
       "    <tr>\n",
       "      <th>2023-10-27 22:00:00</th>\n",
       "      <td>30.16</td>\n",
       "      <td>2.22</td>\n",
       "    </tr>\n",
       "    <tr>\n",
       "      <th>...</th>\n",
       "      <td>...</td>\n",
       "      <td>...</td>\n",
       "    </tr>\n",
       "    <tr>\n",
       "      <th>2024-01-13 10:00:00</th>\n",
       "      <td>0.19</td>\n",
       "      <td>1.56</td>\n",
       "    </tr>\n",
       "    <tr>\n",
       "      <th>2024-01-13 13:00:00</th>\n",
       "      <td>NaN</td>\n",
       "      <td>NaN</td>\n",
       "    </tr>\n",
       "    <tr>\n",
       "      <th>2024-01-13 16:00:00</th>\n",
       "      <td>NaN</td>\n",
       "      <td>NaN</td>\n",
       "    </tr>\n",
       "    <tr>\n",
       "      <th>2024-01-13 19:00:00</th>\n",
       "      <td>NaN</td>\n",
       "      <td>NaN</td>\n",
       "    </tr>\n",
       "    <tr>\n",
       "      <th>2024-01-13 22:00:00</th>\n",
       "      <td>NaN</td>\n",
       "      <td>NaN</td>\n",
       "    </tr>\n",
       "  </tbody>\n",
       "</table>\n",
       "<p>525 rows × 2 columns</p>\n",
       "</div>"
      ],
      "text/plain": [
       "                        Cu    pH\n",
       "Timestamp                       \n",
       "2023-10-27 10:00:00    NaN   NaN\n",
       "2023-10-27 13:00:00    NaN   NaN\n",
       "2023-10-27 16:00:00  16.76  1.15\n",
       "2023-10-27 19:00:00  35.51  2.57\n",
       "2023-10-27 22:00:00  30.16  2.22\n",
       "...                    ...   ...\n",
       "2024-01-13 10:00:00   0.19  1.56\n",
       "2024-01-13 13:00:00    NaN   NaN\n",
       "2024-01-13 16:00:00    NaN   NaN\n",
       "2024-01-13 19:00:00    NaN   NaN\n",
       "2024-01-13 22:00:00    NaN   NaN\n",
       "\n",
       "[525 rows x 2 columns]"
      ]
     },
     "execution_count": 13,
     "metadata": {},
     "output_type": "execute_result"
    }
   ],
   "source": [
    "df_2"
   ]
  },
  {
   "cell_type": "markdown",
   "metadata": {},
   "source": [
    "### Variables\n",
    "* **Cu:** Gramos de cobre por litro de solución.\n",
    "* **pH:** Nivel de pH en la solución."
   ]
  },
  {
   "cell_type": "code",
   "execution_count": 14,
   "metadata": {},
   "outputs": [
    {
     "name": "stdout",
     "output_type": "stream",
     "text": [
      "<class 'pandas.core.frame.DataFrame'>\n",
      "DatetimeIndex: 525 entries, 2023-10-27 10:00:00 to 2024-01-13 22:00:00\n",
      "Data columns (total 2 columns):\n",
      " #   Column  Non-Null Count  Dtype  \n",
      "---  ------  --------------  -----  \n",
      " 0   Cu      427 non-null    float64\n",
      " 1   pH      422 non-null    float64\n",
      "dtypes: float64(2)\n",
      "memory usage: 12.3 KB\n"
     ]
    }
   ],
   "source": [
    "df_2.info()"
   ]
  },
  {
   "cell_type": "code",
   "execution_count": 15,
   "metadata": {},
   "outputs": [
    {
     "data": {
      "text/html": [
       "<div>\n",
       "<style scoped>\n",
       "    .dataframe tbody tr th:only-of-type {\n",
       "        vertical-align: middle;\n",
       "    }\n",
       "\n",
       "    .dataframe tbody tr th {\n",
       "        vertical-align: top;\n",
       "    }\n",
       "\n",
       "    .dataframe thead th {\n",
       "        text-align: right;\n",
       "    }\n",
       "</style>\n",
       "<table border=\"1\" class=\"dataframe\">\n",
       "  <thead>\n",
       "    <tr style=\"text-align: right;\">\n",
       "      <th></th>\n",
       "      <th>Cu</th>\n",
       "      <th>pH</th>\n",
       "    </tr>\n",
       "  </thead>\n",
       "  <tbody>\n",
       "    <tr>\n",
       "      <th>count</th>\n",
       "      <td>427.000000</td>\n",
       "      <td>422.000000</td>\n",
       "    </tr>\n",
       "    <tr>\n",
       "      <th>mean</th>\n",
       "      <td>3.071991</td>\n",
       "      <td>1.799076</td>\n",
       "    </tr>\n",
       "    <tr>\n",
       "      <th>std</th>\n",
       "      <td>6.722241</td>\n",
       "      <td>0.307814</td>\n",
       "    </tr>\n",
       "    <tr>\n",
       "      <th>min</th>\n",
       "      <td>0.180000</td>\n",
       "      <td>0.500000</td>\n",
       "    </tr>\n",
       "    <tr>\n",
       "      <th>25%</th>\n",
       "      <td>0.520000</td>\n",
       "      <td>1.630000</td>\n",
       "    </tr>\n",
       "    <tr>\n",
       "      <th>50%</th>\n",
       "      <td>0.950000</td>\n",
       "      <td>1.735000</td>\n",
       "    </tr>\n",
       "    <tr>\n",
       "      <th>75%</th>\n",
       "      <td>1.840000</td>\n",
       "      <td>1.860000</td>\n",
       "    </tr>\n",
       "    <tr>\n",
       "      <th>max</th>\n",
       "      <td>38.020000</td>\n",
       "      <td>4.810000</td>\n",
       "    </tr>\n",
       "  </tbody>\n",
       "</table>\n",
       "</div>"
      ],
      "text/plain": [
       "               Cu          pH\n",
       "count  427.000000  422.000000\n",
       "mean     3.071991    1.799076\n",
       "std      6.722241    0.307814\n",
       "min      0.180000    0.500000\n",
       "25%      0.520000    1.630000\n",
       "50%      0.950000    1.735000\n",
       "75%      1.840000    1.860000\n",
       "max     38.020000    4.810000"
      ]
     },
     "execution_count": 15,
     "metadata": {},
     "output_type": "execute_result"
    }
   ],
   "source": [
    "df_2.describe()"
   ]
  },
  {
   "cell_type": "code",
   "execution_count": 16,
   "metadata": {},
   "outputs": [
    {
     "data": {
      "text/html": [
       "<div>\n",
       "<style scoped>\n",
       "    .dataframe tbody tr th:only-of-type {\n",
       "        vertical-align: middle;\n",
       "    }\n",
       "\n",
       "    .dataframe tbody tr th {\n",
       "        vertical-align: top;\n",
       "    }\n",
       "\n",
       "    .dataframe thead th {\n",
       "        text-align: right;\n",
       "    }\n",
       "</style>\n",
       "<table border=\"1\" class=\"dataframe\">\n",
       "  <thead>\n",
       "    <tr style=\"text-align: right;\">\n",
       "      <th></th>\n",
       "      <th>Cu</th>\n",
       "      <th>pH</th>\n",
       "    </tr>\n",
       "  </thead>\n",
       "  <tbody>\n",
       "    <tr>\n",
       "      <th>Cu</th>\n",
       "      <td>1.000000</td>\n",
       "      <td>0.696612</td>\n",
       "    </tr>\n",
       "    <tr>\n",
       "      <th>pH</th>\n",
       "      <td>0.696612</td>\n",
       "      <td>1.000000</td>\n",
       "    </tr>\n",
       "  </tbody>\n",
       "</table>\n",
       "</div>"
      ],
      "text/plain": [
       "          Cu        pH\n",
       "Cu  1.000000  0.696612\n",
       "pH  0.696612  1.000000"
      ]
     },
     "execution_count": 16,
     "metadata": {},
     "output_type": "execute_result"
    }
   ],
   "source": [
    "df_2.corr()"
   ]
  },
  {
   "cell_type": "markdown",
   "metadata": {},
   "source": [
    "### Primeras observaciones\n",
    "**Información general**\n",
    "* 525 registros.\n",
    "* Valores nulos:\n",
    "    * Cu: 98 (18,6%)\n",
    "    * pH: 103 (19,6%)\n",
    "\n",
    "**Estadísticos**\n",
    "* Desviación estándar:\n",
    "    * La desviación estándar de ambas columnas indica que hay una mayor dispersión en la de Cu (6.72) que en la de pH (0.3).\n",
    "* Correlación:\n",
    "    * Un valor de 0.696612 está en el rango de 0.5 a 0.9, lo que generalmente se considera una correlación positiva fuerte. En otras palabras, la relación entre los gramos de cobre por litro y el pH es bastante significativa.\n",
    "    * Sin embargo, esta correlación no implica causalidad. Aunque hay una relación entre las dos variables, no significa necesariamente que una cause el cambio en la otra.\n",
    "\n"
   ]
  },
  {
   "cell_type": "markdown",
   "metadata": {},
   "source": [
    "#### Comparación de la varianza entre ambas variables\n",
    "* Para comparar la varianza entre las variables Cu y pH, es necesario llevar ambas al mismo rango. \n",
    "* En este caso, se aplica normalización (Min-Max Scaling), para ajustar los valores en un rango de [0, 1]."
   ]
  },
  {
   "cell_type": "code",
   "execution_count": 17,
   "metadata": {},
   "outputs": [
    {
     "name": "stdout",
     "output_type": "stream",
     "text": [
      "std_Cu: 0.1799\n",
      "std_pH: 0.0713\n"
     ]
    }
   ],
   "source": [
    "df_2_clean = df_2[[\"Cu\", \"pH\"]].dropna()\n",
    "\n",
    "scaler_minmax = MinMaxScaler()\n",
    "data_normalized = scaler_minmax.fit_transform(df_2_clean)\n",
    "\n",
    "std_Cu, std_pH = data_normalized.std(axis=0).round(4)\n",
    "\n",
    "print(\"std_Cu:\", std_Cu)\n",
    "print(\"std_pH:\", std_pH)"
   ]
  },
  {
   "cell_type": "markdown",
   "metadata": {},
   "source": [
    "* Los resultados anteriores muestran que, aunque ambas variables se han normalizado al mismo rango, Cu sigue teniendo una variabilidad más alta que pH. Esto indica que, incluso después de la normalización, los valores de Cu tienden a disperarse más que los de pH en relación con su respectivo rango.\n",
    "\n",
    "* Esto puede implicar que Cu tiene una mayor sensibilidad o respuesta a los factores que afectan su comportamiento en los datos. Por el contrario, la menor dispersión de pH sugiere que esta variable puede ser más estable o menos influenciada por variaciones extremas."
   ]
  },
  {
   "cell_type": "markdown",
   "metadata": {},
   "source": [
    "---\n",
    "\n",
    "### Gráficos de dispersión e Histogramas\n",
    "Para seguir estudiando la relación entre las dos variables"
   ]
  },
  {
   "cell_type": "code",
   "execution_count": 18,
   "metadata": {},
   "outputs": [
    {
     "data": {
      "image/png": "[encoded data removed]",
      "text/plain": [
       "<Figure size 500x500 with 6 Axes>"
      ]
     },
     "metadata": {},
     "output_type": "display_data"
    }
   ],
   "source": [
    "sns.pairplot(df_2, plot_kws={\"s\": 10}) \n",
    "plt.suptitle(f\"Gráficos de dispersión e Histogramas\", y=1.02)\n",
    "plt.show()"
   ]
  },
  {
   "cell_type": "code",
   "execution_count": 19,
   "metadata": {},
   "outputs": [
    {
     "name": "stdout",
     "output_type": "stream",
     "text": [
      "N° bins cu: 10\n",
      "N° bins ph: 10\n"
     ]
    }
   ],
   "source": [
    "columns = [\"Cu\", \"pH\"]\n",
    "bins_names = [\"cu_bins\", \"ph_bins\"]\n",
    "bins_values = {}\n",
    "\n",
    "for col, bin_name in zip(columns, bins_names):\n",
    "    clean_data = df_2[col].dropna()\n",
    "    bins_values[bin_name] = int(np.ceil(np.log2(len(clean_data))) + 1)\n",
    "    \n",
    "cu_bins = bins_values[\"cu_bins\"]\n",
    "ph_bins = bins_values[\"ph_bins\"]\n",
    "\n",
    "for bin_name, bins in bins_values.items():\n",
    "    print(f\"N° bins {bin_name.replace(\"_bins\", \"\")}:\", bins)"
   ]
  },
  {
   "cell_type": "code",
   "execution_count": 32,
   "metadata": {},
   "outputs": [
    {
     "data": {
      "image/png": "[encoded data removed]",
      "text/plain": [
       "<Figure size 1000x400 with 2 Axes>"
      ]
     },
     "metadata": {},
     "output_type": "display_data"
    }
   ],
   "source": [
    "fig, axes = plt.subplots(nrows=1, \n",
    "                         ncols=2, \n",
    "                         figsize=(10, 4))\n",
    "\n",
    "titles = [\"Distribución de registros de Cu\", \n",
    "          \"Distribución de registros de pH\"]\n",
    "x_labels = [\"Cu (g/L)\", \"pH\"]\n",
    "bins = [cu_bins, ph_bins]\n",
    "\n",
    "for i, (column_name, \n",
    "        title, \n",
    "        x_label, \n",
    "        bin_count) in enumerate(zip(columns, \n",
    "                                    titles, \n",
    "                                    x_labels, \n",
    "                                    bins)):\n",
    "    axes[i].set_title(title)\n",
    "    axes[i].set_xlabel(x_label)\n",
    "    axes[i].set_ylabel(\"Cantidad\")\n",
    "    axes[i].hist(df_2[column_name], \n",
    "                 bins=bin_count, \n",
    "                 edgecolor=\"black\")\n",
    "\n",
    "plt.tight_layout()\n",
    "plt.show()"
   ]
  },
  {
   "cell_type": "markdown",
   "metadata": {},
   "source": [
    "A partir de los gráficos, se puede determinar lo siguiente:\n",
    "\n",
    "**Histograma**\n",
    "* Cu (arriba-izquierda): La distribución está segada a la derecha, con una mayor concentración de valores en el rango más bajo (cercano a 0). Hay una gran cantidad de valores pequeños y un número decreciente de valoes más grandes.\n",
    "* pH (abajo-derecha): La distribución también muestra un sesgo, pero menos pronunciado que el de Cu. Los valores de pH están mayormente concentrados entre 1 y 3.\n",
    "\n",
    "**Gráficos de dispersión**\n",
    "* Entre Cu y pH (arriba-derecha/abajo-izquierda): Hay una relación positiva entre ambas variables. A medida que los valores de pH aumentan, los de Cu también tienden a aumentar, y viceversa. Sin embargo, esta relación parece no ser lineal, con una mayor concentración de puntos en los valores vabajos de Cu y pH.\n",
    "\n",
    "**Distribución conjunta**\n",
    "* La distribución conjunta muestra que, aunque hay una tendencia general, la relación tiene una variabilidad considerable, especialmente en valores bajos de Cu, donde los valores de pH son más dispersos.\n",
    "\n",
    "En resumen, los gráficos sugieren que, aunque existe una relación entre Cu y pH, ésta no es simple y podría requerir un análisis más profundo para entender completamente la dinámica entre estas dos variables. Además, la distribución sesgada de ambas variables indica que podría ser útil aplicar alguna transformación para analizar mejor los datos, como una transformación logarítmica."
   ]
  },
  {
   "cell_type": "markdown",
   "metadata": {},
   "source": [
    "---\n",
    "\n",
    "### Boxplots\n",
    "En los gráficos de dispersión anteriores se pueden observar algunos valores atípicos, por lo que se procede a generar un gráfico de cajas para identificarlos y hacerlos más visibles."
   ]
  },
  {
   "cell_type": "markdown",
   "metadata": {},
   "source": [
    "#### Cu"
   ]
  },
  {
   "cell_type": "code",
   "execution_count": 20,
   "metadata": {},
   "outputs": [
    {
     "data": {
      "image/png": "[encoded data removed]",
      "text/plain": [
       "<Figure size 640x480 with 1 Axes>"
      ]
     },
     "metadata": {},
     "output_type": "display_data"
    }
   ],
   "source": [
    "plt.title(\"Boxplot Cu\")\n",
    "df_2.boxplot(column=\"Cu\")\n",
    "plt.show()"
   ]
  },
  {
   "cell_type": "markdown",
   "metadata": {},
   "source": [
    "En el boxplot de Cu se pueden observar únicamente outliers superiores, ya que la mediana está muy cerca del valor 0."
   ]
  },
  {
   "cell_type": "markdown",
   "metadata": {},
   "source": [
    "#### pH"
   ]
  },
  {
   "cell_type": "code",
   "execution_count": 21,
   "metadata": {},
   "outputs": [
    {
     "data": {
      "image/png": "[encoded data removed]",
      "text/plain": [
       "<Figure size 640x480 with 1 Axes>"
      ]
     },
     "metadata": {},
     "output_type": "display_data"
    }
   ],
   "source": [
    "plt.title(\"Boxplot pH\")\n",
    "df_2.boxplot(column=\"pH\")\n",
    "plt.show()"
   ]
  },
  {
   "cell_type": "markdown",
   "metadata": {},
   "source": [
    "En cambio, en el boxplot de pH hay outliers bajo y sobre la mediana, habiendo una concentración mayor cerca del ámbito de la caja y uno solo entre 4 y 5."
   ]
  },
  {
   "cell_type": "markdown",
   "metadata": {},
   "source": [
    "## Descargar datasets\n",
    "Para uso en otros archivos"
   ]
  },
  {
   "cell_type": "code",
   "execution_count": null,
   "metadata": {},
   "outputs": [],
   "source": [
    "df_2.to_csv(\"../dataset/processed/solution_data.csv\")"
   ]
  }
 ],
 "metadata": {
  "kernelspec": {
   "display_name": "Python 3 (ipykernel)",
   "language": "python",
   "name": "python3"
  },
  "language_info": {
   "codemirror_mode": {
    "name": "ipython",
    "version": 3
   },
   "file_extension": ".py",
   "mimetype": "text/x-python",
   "name": "python",
   "nbconvert_exporter": "python",
   "pygments_lexer": "ipython3",
   "version": "3.12.6"
  }
 },
 "nbformat": 4,
 "nbformat_minor": 4
}
